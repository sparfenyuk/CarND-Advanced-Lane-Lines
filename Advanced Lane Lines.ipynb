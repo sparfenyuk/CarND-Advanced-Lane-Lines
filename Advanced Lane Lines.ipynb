{
 "cells": [
  {
   "cell_type": "code",
   "execution_count": null,
   "metadata": {
    "collapsed": true
   },
   "outputs": [],
   "source": [
    "import cv2\n",
    "from matplotlib import pyplot as plt\n",
    "import numpy as np"
   ]
  },
  {
   "cell_type": "markdown",
   "metadata": {},
   "source": [
    "We'll begin camera calibration with loading given images. "
   ]
  },
  {
   "cell_type": "code",
   "execution_count": null,
   "metadata": {},
   "outputs": [],
   "source": [
    "import glob\n",
    "def load_images(load_path):\n",
    "    image_paths = glob.glob(load_path)\n",
    "    images = [cv2.imread(path) for path in image_paths]\n",
    "    return images\n",
    "        \n",
    "def display_grid(images, n_col, title):\n",
    "    plt.close('all')\n",
    "    fig, ax_arr = plt.subplots(len(images)//n_col, n_col,figsize=(15,7))\n",
    "    fig.suptitle(title, fontsize=30)\n",
    "    for i, image in enumerate(images):\n",
    "        ax = ax_arr[i // n_col, i % n_col]\n",
    "        ax.imshow(image)\n",
    "        ax.set_xticks([]), ax.set_yticks([])\n",
    "    plt.show()\n",
    "\n",
    "\n",
    "calibration_images = load_images(\"camera_cal/*.jpg\")\n",
    "display_grid(calibration_images, 5, \"Images for camera calibration\")"
   ]
  },
  {
   "cell_type": "markdown",
   "metadata": {},
   "source": [
    "As shown above there are 20 images. Using them we could do camera calibration.\n",
    "\n"
   ]
  },
  {
   "cell_type": "code",
   "execution_count": null,
   "metadata": {},
   "outputs": [],
   "source": [
    "def find_corners(image, pattern_size):\n",
    "    \"\"\"\n",
    "    Look for the corners on chessboard image given pattern size\n",
    "    \n",
    "    Args:\n",
    "        image: cv2.image\n",
    "        pattern_size: tuple\n",
    "    \n",
    "    Returns:\n",
    "        List of corners coordinates if they are found\n",
    "    \"\"\"\n",
    "    \n",
    "    gray = cv2.cvtColor(image, cv2.COLOR_BGR2GRAY)\n",
    "    retval, corners = cv2.findChessboardCorners(gray, pattern_size)\n",
    "    return corners if retval else []\n",
    "\n",
    "import functools\n",
    "\n",
    "def find_calibration_parameters(images, pattern_size):\n",
    "    return_corners = list(map(lambda x: find_corners(x, pattern_size), images))\n",
    "    corners = list(filter(lambda x: len(x) != 0, return_corners))\n",
    "\n",
    "    objp_size = np.prod(pattern_size), 3\n",
    "    objp = np.zeros(objp_size, np.float32)\n",
    "    objp[:,:2] = np.mgrid[0:pattern_size[0], 0:pattern_size[1]].T.reshape(-1,2)\n",
    "    objpoints = [objp] * len(corners)\n",
    "    \n",
    "    image_size = images[-1].shape[1::-1]\n",
    "    ret, mtx, dist, *rest = cv2.calibrateCamera(objpoints, corners, image_size, None, None)\n",
    "    \n",
    "    return ret, mtx, dist, return_corners\n",
    "\n",
    "def undistort_images(images, mtx, dist):\n",
    "    return [cv2.undistort(image, mtx, dist) for image in images]\n",
    "\n",
    "def transform_perspective(image, corners, pattern_size):\n",
    "    if len(corners) == 0:\n",
    "        img = image.copy()\n",
    "        cv2.putText(img, \"Failed\", (10, 100), cv2.FONT_ITALIC, 4.0, (0, 0, 255), 3)\n",
    "        return img\n",
    "    nx, ny = pattern_size\n",
    "    src = np.float32([corners[0], corners[nx-1], corners[-1], corners[-nx]])\n",
    "    image_size = image.shape[1::-1]\n",
    "    w, h = image_size[0], image_size[1]\n",
    "    x, y = (w / (nx - 1), h / (ny - 1))\n",
    "    d = (x + y) / 2.4\n",
    "    dst = np.float32([[d, d], [w - d, d], [w-d, h-d], [d, h - d]])\n",
    "\n",
    "    M = cv2.getPerspectiveTransform(src, dst)\n",
    "    return cv2.warpPerspective(image, M, (w, h))\n",
    "\n",
    "ps = (9, 6)\n",
    "ret, mtx, dist, corners = find_calibration_parameters(calibration_images, pattern_size=ps)\n",
    "\n",
    "if ret:\n",
    "    undistorted_images = undistort_images(calibration_images, mtx, dist)\n",
    "    display_grid(undistorted_images, 5, \"Undistorted images\")\n",
    "\n",
    "    transformed_images = [transform_perspective(image, corners[i], pattern_size=ps) \\\n",
    "                          for i, image in enumerate(undistorted_images)]\n",
    "    display_grid(transformed_images, 5, \"Transformed images\")\n"
   ]
  },
  {
   "cell_type": "code",
   "execution_count": null,
   "metadata": {
    "collapsed": true
   },
   "outputs": [],
   "source": []
  }
 ],
 "metadata": {
  "kernelspec": {
   "display_name": "Python 3",
   "language": "python",
   "name": "python3"
  },
  "language_info": {
   "codemirror_mode": {
    "name": "ipython",
    "version": 3
   },
   "file_extension": ".py",
   "mimetype": "text/x-python",
   "name": "python",
   "nbconvert_exporter": "python",
   "pygments_lexer": "ipython3",
   "version": "3.5.2"
  },
  "widgets": {
   "state": {},
   "version": "1.1.2"
  }
 },
 "nbformat": 4,
 "nbformat_minor": 2
}
